{
  "nbformat": 4,
  "nbformat_minor": 0,
  "metadata": {
    "colab": {
      "provenance": [],
      "authorship_tag": "ABX9TyP+dZzG7B7y4mZoncnjmPqS",
      "include_colab_link": true
    },
    "kernelspec": {
      "name": "python3",
      "display_name": "Python 3"
    },
    "language_info": {
      "name": "python"
    }
  },
  "cells": [
    {
      "cell_type": "markdown",
      "metadata": {
        "id": "view-in-github",
        "colab_type": "text"
      },
      "source": [
        "<a href=\"https://colab.research.google.com/github/JPortoL/PruebaIO1_G1/blob/main/Jes%C3%BAsPorto_IO1_Sesion1.ipynb\" target=\"_parent\"><img src=\"https://colab.research.google.com/assets/colab-badge.svg\" alt=\"Open In Colab\"/></a>"
      ]
    },
    {
      "cell_type": "code",
      "execution_count": 5,
      "metadata": {
        "colab": {
          "base_uri": "https://localhost:8080/"
        },
        "id": "PIwo5QYYdMFZ",
        "outputId": "f61fbc4b-7be0-4590-8238-a70b0db0aba6"
      },
      "outputs": [
        {
          "output_type": "stream",
          "name": "stdout",
          "text": [
            "5.0\n"
          ]
        }
      ],
      "source": [
        "print(5+5-5*5/5)"
      ]
    },
    {
      "cell_type": "markdown",
      "source": [
        "#Mi primera vez\n",
        "\n",
        "\n",
        "#Subtitulo\n",
        "\n",
        "\n"
      ],
      "metadata": {
        "id": "BtWZTGiQeot9"
      }
    },
    {
      "cell_type": "code",
      "source": [
        "print(\"Buenos días\")"
      ],
      "metadata": {
        "id": "6AEUwjP1joFH"
      },
      "execution_count": null,
      "outputs": []
    },
    {
      "cell_type": "markdown",
      "source": [
        "#Segundo Ejercicio"
      ],
      "metadata": {
        "id": "2HUyI8NvfG5W"
      }
    },
    {
      "cell_type": "code",
      "source": [
        "print(\"Jesús\")"
      ],
      "metadata": {
        "colab": {
          "base_uri": "https://localhost:8080/"
        },
        "id": "-4cvFDYOfObu",
        "outputId": "c0a61d04-3feb-44e5-e779-d998874d485a"
      },
      "execution_count": 7,
      "outputs": [
        {
          "output_type": "stream",
          "name": "stdout",
          "text": [
            "Jesús\n"
          ]
        }
      ]
    },
    {
      "cell_type": "markdown",
      "source": [
        "#Tercer Ejercicio\n"
      ],
      "metadata": {
        "id": "p7hNmK1Jl9rY"
      }
    },
    {
      "cell_type": "code",
      "source": [
        "print(\"whaterv\")"
      ],
      "metadata": {
        "id": "ZLQIECPBmBVA"
      },
      "execution_count": null,
      "outputs": []
    }
  ]
}